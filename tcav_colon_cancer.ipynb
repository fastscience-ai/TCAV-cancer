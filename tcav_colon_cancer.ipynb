{
 "cells": [
  {
   "cell_type": "code",
   "execution_count": 1,
   "id": "002dacc2-87b5-435f-94cf-f84f7134838c",
   "metadata": {},
   "outputs": [
    {
     "name": "stderr",
     "output_type": "stream",
     "text": [
      "/Users/sookim/miniconda3/envs/tcav/lib/python3.7/site-packages/tensorflow/python/framework/dtypes.py:516: FutureWarning: Passing (type, 1) or '1type' as a synonym of type is deprecated; in a future version of numpy, it will be understood as (type, (1,)) / '(1,)type'.\n",
      "  _np_qint8 = np.dtype([(\"qint8\", np.int8, 1)])\n",
      "/Users/sookim/miniconda3/envs/tcav/lib/python3.7/site-packages/tensorflow/python/framework/dtypes.py:517: FutureWarning: Passing (type, 1) or '1type' as a synonym of type is deprecated; in a future version of numpy, it will be understood as (type, (1,)) / '(1,)type'.\n",
      "  _np_quint8 = np.dtype([(\"quint8\", np.uint8, 1)])\n",
      "/Users/sookim/miniconda3/envs/tcav/lib/python3.7/site-packages/tensorflow/python/framework/dtypes.py:518: FutureWarning: Passing (type, 1) or '1type' as a synonym of type is deprecated; in a future version of numpy, it will be understood as (type, (1,)) / '(1,)type'.\n",
      "  _np_qint16 = np.dtype([(\"qint16\", np.int16, 1)])\n",
      "/Users/sookim/miniconda3/envs/tcav/lib/python3.7/site-packages/tensorflow/python/framework/dtypes.py:519: FutureWarning: Passing (type, 1) or '1type' as a synonym of type is deprecated; in a future version of numpy, it will be understood as (type, (1,)) / '(1,)type'.\n",
      "  _np_quint16 = np.dtype([(\"quint16\", np.uint16, 1)])\n",
      "/Users/sookim/miniconda3/envs/tcav/lib/python3.7/site-packages/tensorflow/python/framework/dtypes.py:520: FutureWarning: Passing (type, 1) or '1type' as a synonym of type is deprecated; in a future version of numpy, it will be understood as (type, (1,)) / '(1,)type'.\n",
      "  _np_qint32 = np.dtype([(\"qint32\", np.int32, 1)])\n",
      "/Users/sookim/miniconda3/envs/tcav/lib/python3.7/site-packages/tensorflow/python/framework/dtypes.py:525: FutureWarning: Passing (type, 1) or '1type' as a synonym of type is deprecated; in a future version of numpy, it will be understood as (type, (1,)) / '(1,)type'.\n",
      "  np_resource = np.dtype([(\"resource\", np.ubyte, 1)])\n",
      "/Users/sookim/miniconda3/envs/tcav/lib/python3.7/site-packages/tensorboard/compat/tensorflow_stub/dtypes.py:541: FutureWarning: Passing (type, 1) or '1type' as a synonym of type is deprecated; in a future version of numpy, it will be understood as (type, (1,)) / '(1,)type'.\n",
      "  _np_qint8 = np.dtype([(\"qint8\", np.int8, 1)])\n",
      "/Users/sookim/miniconda3/envs/tcav/lib/python3.7/site-packages/tensorboard/compat/tensorflow_stub/dtypes.py:542: FutureWarning: Passing (type, 1) or '1type' as a synonym of type is deprecated; in a future version of numpy, it will be understood as (type, (1,)) / '(1,)type'.\n",
      "  _np_quint8 = np.dtype([(\"quint8\", np.uint8, 1)])\n",
      "/Users/sookim/miniconda3/envs/tcav/lib/python3.7/site-packages/tensorboard/compat/tensorflow_stub/dtypes.py:543: FutureWarning: Passing (type, 1) or '1type' as a synonym of type is deprecated; in a future version of numpy, it will be understood as (type, (1,)) / '(1,)type'.\n",
      "  _np_qint16 = np.dtype([(\"qint16\", np.int16, 1)])\n",
      "/Users/sookim/miniconda3/envs/tcav/lib/python3.7/site-packages/tensorboard/compat/tensorflow_stub/dtypes.py:544: FutureWarning: Passing (type, 1) or '1type' as a synonym of type is deprecated; in a future version of numpy, it will be understood as (type, (1,)) / '(1,)type'.\n",
      "  _np_quint16 = np.dtype([(\"quint16\", np.uint16, 1)])\n",
      "/Users/sookim/miniconda3/envs/tcav/lib/python3.7/site-packages/tensorboard/compat/tensorflow_stub/dtypes.py:545: FutureWarning: Passing (type, 1) or '1type' as a synonym of type is deprecated; in a future version of numpy, it will be understood as (type, (1,)) / '(1,)type'.\n",
      "  _np_qint32 = np.dtype([(\"qint32\", np.int32, 1)])\n",
      "/Users/sookim/miniconda3/envs/tcav/lib/python3.7/site-packages/tensorboard/compat/tensorflow_stub/dtypes.py:550: FutureWarning: Passing (type, 1) or '1type' as a synonym of type is deprecated; in a future version of numpy, it will be understood as (type, (1,)) / '(1,)type'.\n",
      "  np_resource = np.dtype([(\"resource\", np.ubyte, 1)])\n",
      "2022-10-21 10:45:33.145274: I tensorflow/core/platform/cpu_feature_guard.cc:142] Your CPU supports instructions that this TensorFlow binary was not compiled to use: AVX2 FMA\n"
     ]
    },
    {
     "data": {
      "text/plain": [
       "[name: \"/device:CPU:0\"\n",
       " device_type: \"CPU\"\n",
       " memory_limit: 268435456\n",
       " locality {\n",
       " }\n",
       " incarnation: 5621047023196322338]"
      ]
     },
     "execution_count": 1,
     "metadata": {},
     "output_type": "execute_result"
    }
   ],
   "source": [
    "from tensorflow.python.client import device_lib\n",
    "device_lib.list_local_devices()"
   ]
  },
  {
   "cell_type": "code",
   "execution_count": 2,
   "id": "11ab5deb-4a2e-4436-b14e-1820017594fc",
   "metadata": {},
   "outputs": [
    {
     "name": "stdout",
     "output_type": "stream",
     "text": [
      "fatal: destination path 'cav-keras' already exists and is not an empty directory.\n"
     ]
    }
   ],
   "source": [
    "!git clone https://github.com/pnxenopoulos/cav-keras.git\n",
    "!cp -R cav-keras/cav cav/"
   ]
  },
  {
   "cell_type": "code",
   "execution_count": 3,
   "id": "26b12e18-33ee-4c61-9bfa-b2da30d0c89c",
   "metadata": {},
   "outputs": [
    {
     "name": "stderr",
     "output_type": "stream",
     "text": [
      "Using TensorFlow backend.\n"
     ]
    }
   ],
   "source": [
    "import numpy as np\n",
    "\n",
    "import matplotlib.pyplot as plt\n",
    "import seaborn as sns\n",
    "import tensorflow as tf\n",
    "import keras\n",
    "from keras import Model\n",
    "from keras.models import Sequential\n",
    "from keras.layers import InputLayer\n",
    "from keras.preprocessing.image import ImageDataGenerator\n",
    "\n",
    "from keras.layers import Dense, Dropout, Activation, Flatten,MaxPool2D, BatchNormalization\n",
    "from keras.layers import Conv2D, MaxPooling2D\n",
    "\n",
    "import sys\n",
    "import os\n",
    "sys.path.insert(0, os.path.abspath('../..'))\n",
    "\n",
    "from cav.tcav import *\n",
    "\n",
    "np.random.seed(1996)"
   ]
  },
  {
   "cell_type": "code",
   "execution_count": 4,
   "id": "0b50fa95-4d99-4d50-baea-ff5a6e333ade",
   "metadata": {},
   "outputs": [
    {
     "name": "stdout",
     "output_type": "stream",
     "text": [
      "JPEG\n",
      "(768, 768)\n",
      "RGB\n"
     ]
    }
   ],
   "source": [
    "from PIL import Image\n",
    "# Open the image form working directory\n",
    "image = Image.open('/Users/sookim/tcav/lung_colon_image_set/colon_image_sets/colon_aca/colonca2122.jpeg')\n",
    "# summarize some details about the image\n",
    "print(image.format)\n",
    "print(image.size)\n",
    "print(image.mode)"
   ]
  },
  {
   "cell_type": "code",
   "execution_count": 5,
   "id": "479ad0fc-5615-4914-95ee-6cc2910eee9f",
   "metadata": {},
   "outputs": [],
   "source": [
    "image_set=\"/Users/sookim/tcav/lung_colon_image_set/colon_image_sets\"\n",
    "#The subfolder colon_image_sets contains two secondary subfolders: colon_aca subfolder with 5000 images of colon adenocarcinomas and colon_n subfolder with 5000 images of benign colonic tissues."
   ]
  },
  {
   "cell_type": "code",
   "execution_count": 6,
   "id": "112594d4-7798-45f4-8d22-a4ccb27067b3",
   "metadata": {},
   "outputs": [
    {
     "name": "stdout",
     "output_type": "stream",
     "text": [
      "Found 7000 images belonging to 2 classes.\n",
      "Found 3000 images belonging to 2 classes.\n",
      "Found 3000 images belonging to 2 classes.\n"
     ]
    }
   ],
   "source": [
    "SIZE_X = SIZE_Y = 128 #384\n",
    "\n",
    "datagen = tf.keras.preprocessing.image.ImageDataGenerator(validation_split = 0.3,\n",
    "                                                          )\n",
    "\n",
    "train_set = datagen.flow_from_directory(image_set,\n",
    "                                       class_mode = \"categorical\",\n",
    "                                       target_size = (SIZE_X,SIZE_Y),\n",
    "                                       color_mode=\"rgb\",\n",
    "                                       batch_size = 128, \n",
    "                                       shuffle = False,\n",
    "                                       subset='training',\n",
    "                                       seed = 42)\n",
    "\n",
    "validation_set = datagen.flow_from_directory(image_set,\n",
    "                                       class_mode = \"categorical\",\n",
    "                                       target_size = (SIZE_X, SIZE_Y),\n",
    "                                       color_mode=\"rgb\",\n",
    "                                       batch_size = 128, \n",
    "                                       shuffle = False,\n",
    "                                       subset='validation',\n",
    "                                       seed = 42)\n",
    "test_set = datagen.flow_from_directory(image_set,\n",
    "                                       class_mode = \"binary\",\n",
    "                                       target_size = (SIZE_X, SIZE_Y),\n",
    "                                       color_mode=\"rgb\",\n",
    "                                       batch_size = 128, \n",
    "                                       shuffle = False,\n",
    "                                       subset='validation',\n",
    "                                       seed = 42)"
   ]
  },
  {
   "cell_type": "code",
   "execution_count": 7,
   "id": "73cab053-1c92-4efd-8a15-a7e4c6140b4b",
   "metadata": {},
   "outputs": [
    {
     "name": "stdout",
     "output_type": "stream",
     "text": [
      "WARNING:tensorflow:From /Users/sookim/miniconda3/envs/tcav/lib/python3.7/site-packages/keras/backend/tensorflow_backend.py:66: The name tf.get_default_graph is deprecated. Please use tf.compat.v1.get_default_graph instead.\n",
      "\n",
      "WARNING:tensorflow:From /Users/sookim/miniconda3/envs/tcav/lib/python3.7/site-packages/keras/backend/tensorflow_backend.py:541: The name tf.placeholder is deprecated. Please use tf.compat.v1.placeholder instead.\n",
      "\n",
      "WARNING:tensorflow:From /Users/sookim/miniconda3/envs/tcav/lib/python3.7/site-packages/keras/backend/tensorflow_backend.py:4432: The name tf.random_uniform is deprecated. Please use tf.random.uniform instead.\n",
      "\n",
      "WARNING:tensorflow:From /Users/sookim/miniconda3/envs/tcav/lib/python3.7/site-packages/keras/backend/tensorflow_backend.py:190: The name tf.get_default_session is deprecated. Please use tf.compat.v1.get_default_session instead.\n",
      "\n",
      "WARNING:tensorflow:From /Users/sookim/miniconda3/envs/tcav/lib/python3.7/site-packages/keras/backend/tensorflow_backend.py:197: The name tf.ConfigProto is deprecated. Please use tf.compat.v1.ConfigProto instead.\n",
      "\n",
      "WARNING:tensorflow:From /Users/sookim/miniconda3/envs/tcav/lib/python3.7/site-packages/keras/backend/tensorflow_backend.py:2041: The name tf.nn.fused_batch_norm is deprecated. Please use tf.compat.v1.nn.fused_batch_norm instead.\n",
      "\n",
      "WARNING:tensorflow:From /Users/sookim/miniconda3/envs/tcav/lib/python3.7/site-packages/keras/backend/tensorflow_backend.py:4267: The name tf.nn.max_pool is deprecated. Please use tf.nn.max_pool2d instead.\n",
      "\n",
      "WARNING:tensorflow:From /Users/sookim/miniconda3/envs/tcav/lib/python3.7/site-packages/keras/backend/tensorflow_backend.py:3733: calling dropout (from tensorflow.python.ops.nn_ops) with keep_prob is deprecated and will be removed in a future version.\n",
      "Instructions for updating:\n",
      "Please use `rate` instead of `keep_prob`. Rate should be set to `rate = 1 - keep_prob`.\n"
     ]
    }
   ],
   "source": [
    "model=Sequential()\n",
    "\n",
    "model.add(Conv2D(64,(3, 3), padding = 'same', activation='relu', input_shape=(128, 128,3)))\n",
    "model.add(BatchNormalization())\n",
    "model.add(Conv2D(128,(3, 3), padding = 'same', activation='relu'))\n",
    "\n",
    "model.add(MaxPooling2D())\n",
    "model.add(Dropout(0.1))\n",
    "model.add(Conv2D(filters = 128, kernel_size = (3, 3), padding = 'same', activation='relu'))\n",
    "model.add(MaxPooling2D())\n",
    "model.add(Dropout(0.1))\n",
    "model.add(Conv2D(filters = 64, kernel_size = (3, 3), padding = 'same', activation='relu'))\n",
    "model.add(MaxPooling2D())\n",
    "model.add(Dropout(0.1))\n",
    "model.add(Conv2D(filters = 64, kernel_size = (3, 3), padding = 'same', activation='relu'))\n",
    "model.add(Conv2D(filters = 64, kernel_size = (3, 3), padding = 'same', activation='relu'))\n",
    "model.add(MaxPooling2D())\n",
    "model.add(Flatten())\n",
    "model.add(Dense(256, activation = 'softmax'))\n",
    "model.add(Dense(64, activation = 'softmax'))\n",
    "model.add(Dense(2, activation = 'softmax'))\n",
    "#model = tf.keras.applications.InceptionV3(\n",
    "#    include_top=True,\n",
    "#    weights=\"imagenet\",\n",
    "#    input_tensor=None,\n",
    "#    input_shape=None,\n",
    "#    pooling=None,\n",
    "#    classes=1000,\n",
    "#    classifier_activation=\"softmax\",\n",
    "#)"
   ]
  },
  {
   "cell_type": "code",
   "execution_count": 8,
   "id": "f50d15fa-6e7b-451c-aa16-c8b384730673",
   "metadata": {},
   "outputs": [],
   "source": [
    "es=tf.keras.callbacks.EarlyStopping( monitor='val_accuracy', min_delta=0.001, patience=5, restore_best_weights=True)"
   ]
  },
  {
   "cell_type": "code",
   "execution_count": 9,
   "id": "3afd3c24-d908-40ab-83cc-b67639c37908",
   "metadata": {},
   "outputs": [
    {
     "name": "stdout",
     "output_type": "stream",
     "text": [
      "WARNING:tensorflow:From /Users/sookim/miniconda3/envs/tcav/lib/python3.7/site-packages/keras/optimizers.py:793: The name tf.train.Optimizer is deprecated. Please use tf.compat.v1.train.Optimizer instead.\n",
      "\n"
     ]
    }
   ],
   "source": [
    "model.compile(loss='categorical_crossentropy', optimizer ='adam', metrics=['accuracy'])"
   ]
  },
  {
   "cell_type": "code",
   "execution_count": 10,
   "id": "06fa0d90-ddec-4900-bde5-566a042c10e4",
   "metadata": {},
   "outputs": [
    {
     "name": "stdout",
     "output_type": "stream",
     "text": [
      "Model: \"sequential_1\"\n",
      "_________________________________________________________________\n",
      "Layer (type)                 Output Shape              Param #   \n",
      "=================================================================\n",
      "conv2d_1 (Conv2D)            (None, 128, 128, 64)      1792      \n",
      "_________________________________________________________________\n",
      "batch_normalization_1 (Batch (None, 128, 128, 64)      256       \n",
      "_________________________________________________________________\n",
      "conv2d_2 (Conv2D)            (None, 128, 128, 128)     73856     \n",
      "_________________________________________________________________\n",
      "max_pooling2d_1 (MaxPooling2 (None, 64, 64, 128)       0         \n",
      "_________________________________________________________________\n",
      "dropout_1 (Dropout)          (None, 64, 64, 128)       0         \n",
      "_________________________________________________________________\n",
      "conv2d_3 (Conv2D)            (None, 64, 64, 128)       147584    \n",
      "_________________________________________________________________\n",
      "max_pooling2d_2 (MaxPooling2 (None, 32, 32, 128)       0         \n",
      "_________________________________________________________________\n",
      "dropout_2 (Dropout)          (None, 32, 32, 128)       0         \n",
      "_________________________________________________________________\n",
      "conv2d_4 (Conv2D)            (None, 32, 32, 64)        73792     \n",
      "_________________________________________________________________\n",
      "max_pooling2d_3 (MaxPooling2 (None, 16, 16, 64)        0         \n",
      "_________________________________________________________________\n",
      "dropout_3 (Dropout)          (None, 16, 16, 64)        0         \n",
      "_________________________________________________________________\n",
      "conv2d_5 (Conv2D)            (None, 16, 16, 64)        36928     \n",
      "_________________________________________________________________\n",
      "conv2d_6 (Conv2D)            (None, 16, 16, 64)        36928     \n",
      "_________________________________________________________________\n",
      "max_pooling2d_4 (MaxPooling2 (None, 8, 8, 64)          0         \n",
      "_________________________________________________________________\n",
      "flatten_1 (Flatten)          (None, 4096)              0         \n",
      "_________________________________________________________________\n",
      "dense_1 (Dense)              (None, 256)               1048832   \n",
      "_________________________________________________________________\n",
      "dense_2 (Dense)              (None, 64)                16448     \n",
      "_________________________________________________________________\n",
      "dense_3 (Dense)              (None, 2)                 130       \n",
      "=================================================================\n",
      "Total params: 1,436,546\n",
      "Trainable params: 1,436,418\n",
      "Non-trainable params: 128\n",
      "_________________________________________________________________\n"
     ]
    }
   ],
   "source": [
    "model.summary()"
   ]
  },
  {
   "cell_type": "code",
   "execution_count": 11,
   "id": "a072e1a5-16c1-4d40-9367-8dcf001416ab",
   "metadata": {},
   "outputs": [
    {
     "name": "stdout",
     "output_type": "stream",
     "text": [
      "WARNING:tensorflow:From /Users/sookim/miniconda3/envs/tcav/lib/python3.7/site-packages/tensorflow/python/ops/math_grad.py:1250: add_dispatch_support.<locals>.wrapper (from tensorflow.python.ops.array_ops) is deprecated and will be removed in a future version.\n",
      "Instructions for updating:\n",
      "Use tf.where in 2.0, which has the same broadcast rule as np.where\n",
      "Epoch 1/3\n",
      " - 475s - loss: 0.6944 - acc: 0.5028 - val_loss: 0.6936 - val_acc: 0.5000\n",
      "WARNING:tensorflow:Early stopping conditioned on metric `val_accuracy` which is not available. Available metrics are: val_loss,val_acc,loss,acc\n",
      "Epoch 2/3\n",
      " - 434s - loss: 0.6941 - acc: 0.5028 - val_loss: 0.6936 - val_acc: 0.5000\n",
      "WARNING:tensorflow:Early stopping conditioned on metric `val_accuracy` which is not available. Available metrics are: val_loss,val_acc,loss,acc\n",
      "Epoch 3/3\n",
      " - 403s - loss: 0.6944 - acc: 0.5028 - val_loss: 0.6935 - val_acc: 0.5000\n",
      "WARNING:tensorflow:Early stopping conditioned on metric `val_accuracy` which is not available. Available metrics are: val_loss,val_acc,loss,acc\n"
     ]
    },
    {
     "data": {
      "text/plain": [
       "<keras.callbacks.History at 0x7fdd796a6a10>"
      ]
     },
     "execution_count": 11,
     "metadata": {},
     "output_type": "execute_result"
    }
   ],
   "source": [
    "model.fit_generator(train_set, validation_data=validation_set, epochs=3, verbose=2,callbacks=[es] )"
   ]
  },
  {
   "cell_type": "code",
   "execution_count": 12,
   "id": "d24c6e12-5b72-42fb-adb2-ae7a5e05ccd0",
   "metadata": {},
   "outputs": [],
   "source": [
    "import cv2\n",
    "import os\n",
    "\n",
    "def load_images_from_folder(folder):\n",
    "    images = []\n",
    "    for filename in os.listdir(folder):\n",
    "        img = cv2.imread(os.path.join(folder,filename))\n",
    "        img=cv2.resize(img,(128,128))\n",
    "        if img is not None:\n",
    "            images.append(img)\n",
    "    return images\n"
   ]
  },
  {
   "cell_type": "code",
   "execution_count": 13,
   "id": "559b5e5f-107e-48d2-8765-07f915a834cc",
   "metadata": {},
   "outputs": [],
   "source": [
    "X,y=validation_set.next()"
   ]
  },
  {
   "cell_type": "code",
   "execution_count": 14,
   "id": "40cc7af7-b659-4ed6-8210-1cf1d52d2680",
   "metadata": {},
   "outputs": [
    {
     "name": "stdout",
     "output_type": "stream",
     "text": [
      "+++++++++++++++++++++++++++++++++++++\n",
      "\n",
      "binucleate_cells\n",
      "bottleneck layer among 18 is :  6\n"
     ]
    },
    {
     "name": "stderr",
     "output_type": "stream",
     "text": [
      "/Users/sookim/tcav/cav/tcav.py:155: RuntimeWarning: invalid value encountered in long_scalars\n",
      "  / np.where(self.y_labels == 1)[0].shape[0]\n"
     ]
    },
    {
     "name": "stdout",
     "output_type": "stream",
     "text": [
      "The sensitivity of class 1 is  nan\n",
      "The sensitivity of class 0 is  0.75\n",
      "bottleneck layer among 18 is :  7\n"
     ]
    },
    {
     "name": "stderr",
     "output_type": "stream",
     "text": [
      "/Users/sookim/tcav/cav/tcav.py:155: RuntimeWarning: invalid value encountered in long_scalars\n",
      "  / np.where(self.y_labels == 1)[0].shape[0]\n"
     ]
    },
    {
     "name": "stdout",
     "output_type": "stream",
     "text": [
      "The sensitivity of class 1 is  nan\n",
      "The sensitivity of class 0 is  0.90625\n",
      "bottleneck layer among 18 is :  8\n"
     ]
    },
    {
     "name": "stderr",
     "output_type": "stream",
     "text": [
      "/Users/sookim/tcav/cav/tcav.py:155: RuntimeWarning: invalid value encountered in long_scalars\n",
      "  / np.where(self.y_labels == 1)[0].shape[0]\n"
     ]
    },
    {
     "name": "stdout",
     "output_type": "stream",
     "text": [
      "The sensitivity of class 1 is  nan\n",
      "The sensitivity of class 0 is  0.0234375\n",
      "bottleneck layer among 18 is :  9\n"
     ]
    },
    {
     "name": "stderr",
     "output_type": "stream",
     "text": [
      "/Users/sookim/tcav/cav/tcav.py:155: RuntimeWarning: invalid value encountered in long_scalars\n",
      "  / np.where(self.y_labels == 1)[0].shape[0]\n"
     ]
    },
    {
     "name": "stdout",
     "output_type": "stream",
     "text": [
      "The sensitivity of class 1 is  nan\n",
      "The sensitivity of class 0 is  0.109375\n",
      "bottleneck layer among 18 is :  10\n"
     ]
    },
    {
     "name": "stderr",
     "output_type": "stream",
     "text": [
      "/Users/sookim/tcav/cav/tcav.py:155: RuntimeWarning: invalid value encountered in long_scalars\n",
      "  / np.where(self.y_labels == 1)[0].shape[0]\n"
     ]
    },
    {
     "name": "stdout",
     "output_type": "stream",
     "text": [
      "The sensitivity of class 1 is  nan\n",
      "The sensitivity of class 0 is  0.140625\n",
      "bottleneck layer among 18 is :  11\n"
     ]
    },
    {
     "name": "stderr",
     "output_type": "stream",
     "text": [
      "/Users/sookim/tcav/cav/tcav.py:155: RuntimeWarning: invalid value encountered in long_scalars\n",
      "  / np.where(self.y_labels == 1)[0].shape[0]\n"
     ]
    },
    {
     "name": "stdout",
     "output_type": "stream",
     "text": [
      "The sensitivity of class 1 is  nan\n",
      "The sensitivity of class 0 is  0.8984375\n",
      "bottleneck layer among 18 is :  12\n"
     ]
    },
    {
     "name": "stderr",
     "output_type": "stream",
     "text": [
      "/Users/sookim/tcav/cav/tcav.py:155: RuntimeWarning: invalid value encountered in long_scalars\n",
      "  / np.where(self.y_labels == 1)[0].shape[0]\n"
     ]
    },
    {
     "name": "stdout",
     "output_type": "stream",
     "text": [
      "The sensitivity of class 1 is  nan\n",
      "The sensitivity of class 0 is  0.3828125\n",
      "bottleneck layer among 18 is :  13\n"
     ]
    },
    {
     "name": "stderr",
     "output_type": "stream",
     "text": [
      "/Users/sookim/tcav/cav/tcav.py:155: RuntimeWarning: invalid value encountered in long_scalars\n",
      "  / np.where(self.y_labels == 1)[0].shape[0]\n"
     ]
    },
    {
     "name": "stdout",
     "output_type": "stream",
     "text": [
      "The sensitivity of class 1 is  nan\n",
      "The sensitivity of class 0 is  0.0\n",
      "+++++++++++++++++++++++++++++++++++++\n",
      "\n",
      "elongated_nuclii\n",
      "bottleneck layer among 18 is :  6\n"
     ]
    },
    {
     "name": "stderr",
     "output_type": "stream",
     "text": [
      "/Users/sookim/tcav/cav/tcav.py:155: RuntimeWarning: invalid value encountered in long_scalars\n",
      "  / np.where(self.y_labels == 1)[0].shape[0]\n"
     ]
    },
    {
     "name": "stdout",
     "output_type": "stream",
     "text": [
      "The sensitivity of class 1 is  nan\n",
      "The sensitivity of class 0 is  0.875\n",
      "bottleneck layer among 18 is :  7\n"
     ]
    },
    {
     "name": "stderr",
     "output_type": "stream",
     "text": [
      "/Users/sookim/tcav/cav/tcav.py:155: RuntimeWarning: invalid value encountered in long_scalars\n",
      "  / np.where(self.y_labels == 1)[0].shape[0]\n"
     ]
    },
    {
     "name": "stdout",
     "output_type": "stream",
     "text": [
      "The sensitivity of class 1 is  nan\n",
      "The sensitivity of class 0 is  0.953125\n",
      "bottleneck layer among 18 is :  8\n"
     ]
    },
    {
     "name": "stderr",
     "output_type": "stream",
     "text": [
      "/Users/sookim/tcav/cav/tcav.py:155: RuntimeWarning: invalid value encountered in long_scalars\n",
      "  / np.where(self.y_labels == 1)[0].shape[0]\n"
     ]
    },
    {
     "name": "stdout",
     "output_type": "stream",
     "text": [
      "The sensitivity of class 1 is  nan\n",
      "The sensitivity of class 0 is  0.0390625\n",
      "bottleneck layer among 18 is :  9\n"
     ]
    },
    {
     "name": "stderr",
     "output_type": "stream",
     "text": [
      "/Users/sookim/tcav/cav/tcav.py:155: RuntimeWarning: invalid value encountered in long_scalars\n",
      "  / np.where(self.y_labels == 1)[0].shape[0]\n"
     ]
    },
    {
     "name": "stdout",
     "output_type": "stream",
     "text": [
      "The sensitivity of class 1 is  nan\n",
      "The sensitivity of class 0 is  0.234375\n",
      "bottleneck layer among 18 is :  10\n"
     ]
    },
    {
     "name": "stderr",
     "output_type": "stream",
     "text": [
      "/Users/sookim/tcav/cav/tcav.py:155: RuntimeWarning: invalid value encountered in long_scalars\n",
      "  / np.where(self.y_labels == 1)[0].shape[0]\n"
     ]
    },
    {
     "name": "stdout",
     "output_type": "stream",
     "text": [
      "The sensitivity of class 1 is  nan\n",
      "The sensitivity of class 0 is  0.078125\n",
      "bottleneck layer among 18 is :  11\n"
     ]
    },
    {
     "name": "stderr",
     "output_type": "stream",
     "text": [
      "/Users/sookim/tcav/cav/tcav.py:155: RuntimeWarning: invalid value encountered in long_scalars\n",
      "  / np.where(self.y_labels == 1)[0].shape[0]\n"
     ]
    },
    {
     "name": "stdout",
     "output_type": "stream",
     "text": [
      "The sensitivity of class 1 is  nan\n",
      "The sensitivity of class 0 is  0.0078125\n",
      "bottleneck layer among 18 is :  12\n"
     ]
    },
    {
     "name": "stderr",
     "output_type": "stream",
     "text": [
      "/Users/sookim/tcav/cav/tcav.py:155: RuntimeWarning: invalid value encountered in long_scalars\n",
      "  / np.where(self.y_labels == 1)[0].shape[0]\n"
     ]
    },
    {
     "name": "stdout",
     "output_type": "stream",
     "text": [
      "The sensitivity of class 1 is  nan\n",
      "The sensitivity of class 0 is  0.03125\n",
      "bottleneck layer among 18 is :  13\n"
     ]
    },
    {
     "name": "stderr",
     "output_type": "stream",
     "text": [
      "/Users/sookim/tcav/cav/tcav.py:155: RuntimeWarning: invalid value encountered in long_scalars\n",
      "  / np.where(self.y_labels == 1)[0].shape[0]\n"
     ]
    },
    {
     "name": "stdout",
     "output_type": "stream",
     "text": [
      "The sensitivity of class 1 is  nan\n",
      "The sensitivity of class 0 is  1.0\n",
      "+++++++++++++++++++++++++++++++++++++\n",
      "\n",
      "necrotic_debris\n",
      "bottleneck layer among 18 is :  6\n"
     ]
    },
    {
     "name": "stderr",
     "output_type": "stream",
     "text": [
      "/Users/sookim/tcav/cav/tcav.py:155: RuntimeWarning: invalid value encountered in long_scalars\n",
      "  / np.where(self.y_labels == 1)[0].shape[0]\n"
     ]
    },
    {
     "name": "stdout",
     "output_type": "stream",
     "text": [
      "The sensitivity of class 1 is  nan\n",
      "The sensitivity of class 0 is  0.84375\n",
      "bottleneck layer among 18 is :  7\n"
     ]
    },
    {
     "name": "stderr",
     "output_type": "stream",
     "text": [
      "/Users/sookim/tcav/cav/tcav.py:155: RuntimeWarning: invalid value encountered in long_scalars\n",
      "  / np.where(self.y_labels == 1)[0].shape[0]\n"
     ]
    },
    {
     "name": "stdout",
     "output_type": "stream",
     "text": [
      "The sensitivity of class 1 is  nan\n",
      "The sensitivity of class 0 is  0.3671875\n",
      "bottleneck layer among 18 is :  8\n"
     ]
    },
    {
     "name": "stderr",
     "output_type": "stream",
     "text": [
      "/Users/sookim/tcav/cav/tcav.py:155: RuntimeWarning: invalid value encountered in long_scalars\n",
      "  / np.where(self.y_labels == 1)[0].shape[0]\n"
     ]
    },
    {
     "name": "stdout",
     "output_type": "stream",
     "text": [
      "The sensitivity of class 1 is  nan\n",
      "The sensitivity of class 0 is  0.4296875\n",
      "bottleneck layer among 18 is :  9\n"
     ]
    },
    {
     "name": "stderr",
     "output_type": "stream",
     "text": [
      "/Users/sookim/tcav/cav/tcav.py:155: RuntimeWarning: invalid value encountered in long_scalars\n",
      "  / np.where(self.y_labels == 1)[0].shape[0]\n"
     ]
    },
    {
     "name": "stdout",
     "output_type": "stream",
     "text": [
      "The sensitivity of class 1 is  nan\n",
      "The sensitivity of class 0 is  1.0\n",
      "bottleneck layer among 18 is :  10\n"
     ]
    },
    {
     "name": "stderr",
     "output_type": "stream",
     "text": [
      "/Users/sookim/tcav/cav/tcav.py:155: RuntimeWarning: invalid value encountered in long_scalars\n",
      "  / np.where(self.y_labels == 1)[0].shape[0]\n"
     ]
    },
    {
     "name": "stdout",
     "output_type": "stream",
     "text": [
      "The sensitivity of class 1 is  nan\n",
      "The sensitivity of class 0 is  1.0\n",
      "bottleneck layer among 18 is :  11\n"
     ]
    },
    {
     "name": "stderr",
     "output_type": "stream",
     "text": [
      "/Users/sookim/tcav/cav/tcav.py:155: RuntimeWarning: invalid value encountered in long_scalars\n",
      "  / np.where(self.y_labels == 1)[0].shape[0]\n"
     ]
    },
    {
     "name": "stdout",
     "output_type": "stream",
     "text": [
      "The sensitivity of class 1 is  nan\n",
      "The sensitivity of class 0 is  1.0\n",
      "bottleneck layer among 18 is :  12\n"
     ]
    },
    {
     "name": "stderr",
     "output_type": "stream",
     "text": [
      "/Users/sookim/tcav/cav/tcav.py:155: RuntimeWarning: invalid value encountered in long_scalars\n",
      "  / np.where(self.y_labels == 1)[0].shape[0]\n"
     ]
    },
    {
     "name": "stdout",
     "output_type": "stream",
     "text": [
      "The sensitivity of class 1 is  nan\n",
      "The sensitivity of class 0 is  0.40625\n",
      "bottleneck layer among 18 is :  13\n"
     ]
    },
    {
     "name": "stderr",
     "output_type": "stream",
     "text": [
      "/Users/sookim/tcav/cav/tcav.py:155: RuntimeWarning: invalid value encountered in long_scalars\n",
      "  / np.where(self.y_labels == 1)[0].shape[0]\n"
     ]
    },
    {
     "name": "stdout",
     "output_type": "stream",
     "text": [
      "The sensitivity of class 1 is  nan\n",
      "The sensitivity of class 0 is  1.0\n",
      "+++++++++++++++++++++++++++++++++++++\n",
      "\n",
      "pleomorphism\n",
      "bottleneck layer among 18 is :  6\n"
     ]
    },
    {
     "name": "stderr",
     "output_type": "stream",
     "text": [
      "/Users/sookim/tcav/cav/tcav.py:155: RuntimeWarning: invalid value encountered in long_scalars\n",
      "  / np.where(self.y_labels == 1)[0].shape[0]\n"
     ]
    },
    {
     "name": "stdout",
     "output_type": "stream",
     "text": [
      "The sensitivity of class 1 is  nan\n",
      "The sensitivity of class 0 is  0.5625\n",
      "bottleneck layer among 18 is :  7\n"
     ]
    },
    {
     "name": "stderr",
     "output_type": "stream",
     "text": [
      "/Users/sookim/tcav/cav/tcav.py:155: RuntimeWarning: invalid value encountered in long_scalars\n",
      "  / np.where(self.y_labels == 1)[0].shape[0]\n"
     ]
    },
    {
     "name": "stdout",
     "output_type": "stream",
     "text": [
      "The sensitivity of class 1 is  nan\n",
      "The sensitivity of class 0 is  0.6875\n",
      "bottleneck layer among 18 is :  8\n"
     ]
    },
    {
     "name": "stderr",
     "output_type": "stream",
     "text": [
      "/Users/sookim/tcav/cav/tcav.py:155: RuntimeWarning: invalid value encountered in long_scalars\n",
      "  / np.where(self.y_labels == 1)[0].shape[0]\n"
     ]
    },
    {
     "name": "stdout",
     "output_type": "stream",
     "text": [
      "The sensitivity of class 1 is  nan\n",
      "The sensitivity of class 0 is  0.109375\n",
      "bottleneck layer among 18 is :  9\n"
     ]
    },
    {
     "name": "stderr",
     "output_type": "stream",
     "text": [
      "/Users/sookim/tcav/cav/tcav.py:155: RuntimeWarning: invalid value encountered in long_scalars\n",
      "  / np.where(self.y_labels == 1)[0].shape[0]\n"
     ]
    },
    {
     "name": "stdout",
     "output_type": "stream",
     "text": [
      "The sensitivity of class 1 is  nan\n",
      "The sensitivity of class 0 is  0.5703125\n",
      "bottleneck layer among 18 is :  10\n"
     ]
    },
    {
     "name": "stderr",
     "output_type": "stream",
     "text": [
      "/Users/sookim/tcav/cav/tcav.py:155: RuntimeWarning: invalid value encountered in long_scalars\n",
      "  / np.where(self.y_labels == 1)[0].shape[0]\n"
     ]
    },
    {
     "name": "stdout",
     "output_type": "stream",
     "text": [
      "The sensitivity of class 1 is  nan\n",
      "The sensitivity of class 0 is  0.7265625\n",
      "bottleneck layer among 18 is :  11\n"
     ]
    },
    {
     "name": "stderr",
     "output_type": "stream",
     "text": [
      "/Users/sookim/tcav/cav/tcav.py:155: RuntimeWarning: invalid value encountered in long_scalars\n",
      "  / np.where(self.y_labels == 1)[0].shape[0]\n"
     ]
    },
    {
     "name": "stdout",
     "output_type": "stream",
     "text": [
      "The sensitivity of class 1 is  nan\n",
      "The sensitivity of class 0 is  0.9921875\n",
      "bottleneck layer among 18 is :  12\n"
     ]
    },
    {
     "name": "stderr",
     "output_type": "stream",
     "text": [
      "/Users/sookim/tcav/cav/tcav.py:155: RuntimeWarning: invalid value encountered in long_scalars\n",
      "  / np.where(self.y_labels == 1)[0].shape[0]\n"
     ]
    },
    {
     "name": "stdout",
     "output_type": "stream",
     "text": [
      "The sensitivity of class 1 is  nan\n",
      "The sensitivity of class 0 is  1.0\n",
      "bottleneck layer among 18 is :  13\n"
     ]
    },
    {
     "name": "stderr",
     "output_type": "stream",
     "text": [
      "/Users/sookim/tcav/cav/tcav.py:155: RuntimeWarning: invalid value encountered in long_scalars\n",
      "  / np.where(self.y_labels == 1)[0].shape[0]\n"
     ]
    },
    {
     "name": "stdout",
     "output_type": "stream",
     "text": [
      "The sensitivity of class 1 is  nan\n",
      "The sensitivity of class 0 is  1.0\n",
      "+++++++++++++++++++++++++++++++++++++\n",
      "\n",
      "signet_ring\n",
      "bottleneck layer among 18 is :  6\n"
     ]
    },
    {
     "name": "stderr",
     "output_type": "stream",
     "text": [
      "/Users/sookim/tcav/cav/tcav.py:155: RuntimeWarning: invalid value encountered in long_scalars\n",
      "  / np.where(self.y_labels == 1)[0].shape[0]\n"
     ]
    },
    {
     "name": "stdout",
     "output_type": "stream",
     "text": [
      "The sensitivity of class 1 is  nan\n",
      "The sensitivity of class 0 is  0.0546875\n",
      "bottleneck layer among 18 is :  7\n"
     ]
    },
    {
     "name": "stderr",
     "output_type": "stream",
     "text": [
      "/Users/sookim/tcav/cav/tcav.py:155: RuntimeWarning: invalid value encountered in long_scalars\n",
      "  / np.where(self.y_labels == 1)[0].shape[0]\n"
     ]
    },
    {
     "name": "stdout",
     "output_type": "stream",
     "text": [
      "The sensitivity of class 1 is  nan\n",
      "The sensitivity of class 0 is  0.859375\n",
      "bottleneck layer among 18 is :  8\n"
     ]
    },
    {
     "name": "stderr",
     "output_type": "stream",
     "text": [
      "/Users/sookim/tcav/cav/tcav.py:155: RuntimeWarning: invalid value encountered in long_scalars\n",
      "  / np.where(self.y_labels == 1)[0].shape[0]\n"
     ]
    },
    {
     "name": "stdout",
     "output_type": "stream",
     "text": [
      "The sensitivity of class 1 is  nan\n",
      "The sensitivity of class 0 is  0.0078125\n",
      "bottleneck layer among 18 is :  9\n"
     ]
    },
    {
     "name": "stderr",
     "output_type": "stream",
     "text": [
      "/Users/sookim/tcav/cav/tcav.py:155: RuntimeWarning: invalid value encountered in long_scalars\n",
      "  / np.where(self.y_labels == 1)[0].shape[0]\n"
     ]
    },
    {
     "name": "stdout",
     "output_type": "stream",
     "text": [
      "The sensitivity of class 1 is  nan\n",
      "The sensitivity of class 0 is  0.2578125\n",
      "bottleneck layer among 18 is :  10\n"
     ]
    },
    {
     "name": "stderr",
     "output_type": "stream",
     "text": [
      "/Users/sookim/tcav/cav/tcav.py:155: RuntimeWarning: invalid value encountered in long_scalars\n",
      "  / np.where(self.y_labels == 1)[0].shape[0]\n"
     ]
    },
    {
     "name": "stdout",
     "output_type": "stream",
     "text": [
      "The sensitivity of class 1 is  nan\n",
      "The sensitivity of class 0 is  0.140625\n",
      "bottleneck layer among 18 is :  11\n"
     ]
    },
    {
     "name": "stderr",
     "output_type": "stream",
     "text": [
      "/Users/sookim/tcav/cav/tcav.py:155: RuntimeWarning: invalid value encountered in long_scalars\n",
      "  / np.where(self.y_labels == 1)[0].shape[0]\n"
     ]
    },
    {
     "name": "stdout",
     "output_type": "stream",
     "text": [
      "The sensitivity of class 1 is  nan\n",
      "The sensitivity of class 0 is  1.0\n",
      "bottleneck layer among 18 is :  12\n"
     ]
    },
    {
     "name": "stderr",
     "output_type": "stream",
     "text": [
      "/Users/sookim/tcav/cav/tcav.py:155: RuntimeWarning: invalid value encountered in long_scalars\n",
      "  / np.where(self.y_labels == 1)[0].shape[0]\n"
     ]
    },
    {
     "name": "stdout",
     "output_type": "stream",
     "text": [
      "The sensitivity of class 1 is  nan\n",
      "The sensitivity of class 0 is  0.0\n",
      "bottleneck layer among 18 is :  13\n",
      "The sensitivity of class 1 is  nan\n",
      "The sensitivity of class 0 is  0.0\n"
     ]
    },
    {
     "name": "stderr",
     "output_type": "stream",
     "text": [
      "/Users/sookim/tcav/cav/tcav.py:155: RuntimeWarning: invalid value encountered in long_scalars\n",
      "  / np.where(self.y_labels == 1)[0].shape[0]\n"
     ]
    }
   ],
   "source": [
    "name = [\"binucleate_cells\",\"elongated_nuclii\",\"necrotic_debris\", \"pleomorphism\", \"signet_ring\"]\n",
    "for n in name:\n",
    "    concept=load_images_from_folder(\"/Users/sookim/tcav/lung_colon_image_set/concepts_colon_cancer/cancer/\"+n)\n",
    "    concept=np.array(concept)\n",
    "    tcav_obj = TCAV()\n",
    "    tcav_obj.set_model(model)\n",
    "    print(\"+++++++++++++++++++++++++++++++++++++\\n\")\n",
    "    print(n)\n",
    "    for i in range(6,  14):\n",
    "        print(\"bottleneck layer among\", len(model.layers), \"is : \", i)\n",
    "        tcav_obj.split_model(bottleneck = i, conv_layer = True)\n",
    "        tcav_obj.train_cav(concept)\n",
    "        tcav_obj.calculate_sensitivity(X, y)\n",
    "        tcav_obj.print_sensitivity()"
   ]
  },
  {
   "cell_type": "code",
   "execution_count": null,
   "id": "ba4b5c9e-02fa-4d14-9b99-11537d237090",
   "metadata": {},
   "outputs": [],
   "source": []
  },
  {
   "cell_type": "code",
   "execution_count": null,
   "id": "27e9b3e5-45e9-4118-91fb-b4f52d1a97cc",
   "metadata": {},
   "outputs": [],
   "source": []
  },
  {
   "cell_type": "code",
   "execution_count": null,
   "id": "55fae77b-d92e-4f50-83ed-7be6e7c321ea",
   "metadata": {},
   "outputs": [],
   "source": []
  }
 ],
 "metadata": {
  "kernelspec": {
   "display_name": "Python 3 (ipykernel)",
   "language": "python",
   "name": "python3"
  },
  "language_info": {
   "codemirror_mode": {
    "name": "ipython",
    "version": 3
   },
   "file_extension": ".py",
   "mimetype": "text/x-python",
   "name": "python",
   "nbconvert_exporter": "python",
   "pygments_lexer": "ipython3",
   "version": "3.7.6"
  }
 },
 "nbformat": 4,
 "nbformat_minor": 5
}
