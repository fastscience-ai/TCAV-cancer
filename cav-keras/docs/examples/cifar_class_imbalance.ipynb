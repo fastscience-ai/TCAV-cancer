{
 "cells": [
  {
   "cell_type": "markdown",
   "metadata": {},
   "source": [
    "# Exploring Class Imbalance and its effect on Concept Activation Vectors\n",
    "### Peter Xenopoulos\n",
    "\n",
    "In this Notebook, we explore the effect of class imbalance on concept activation vectors.\n"
   ]
  },
  {
   "cell_type": "code",
   "execution_count": 1,
   "metadata": {},
   "outputs": [
    {
     "name": "stderr",
     "output_type": "stream",
     "text": [
      "Using TensorFlow backend.\n"
     ]
    }
   ],
   "source": [
    "import numpy as np\n",
    "\n",
    "import matplotlib.pyplot as plt\n",
    "import seaborn as sns\n",
    "\n",
    "import keras\n",
    "from keras.datasets import cifar100, cifar10\n",
    "from keras.preprocessing.image import ImageDataGenerator\n",
    "from keras.models import Sequential\n",
    "from keras.layers import Dense, Dropout, Activation, Flatten\n",
    "from keras.layers import Conv2D, MaxPooling2D\n",
    "\n",
    "import sys\n",
    "import os\n",
    "sys.path.insert(0, os.path.abspath('../..'))\n",
    "\n",
    "from cav.tcav import *\n",
    "\n",
    "np.random.seed(2019)"
   ]
  },
  {
   "cell_type": "markdown",
   "metadata": {},
   "source": [
    "## Balanced (50-50)"
   ]
  },
  {
   "cell_type": "code",
   "execution_count": 2,
   "metadata": {},
   "outputs": [
    {
     "name": "stdout",
     "output_type": "stream",
     "text": [
      "Epoch 1/3\n",
      "10000/10000 [==============================] - 29s 3ms/step - loss: 0.3440 - acc: 0.8474\n",
      "Epoch 2/3\n",
      "10000/10000 [==============================] - 29s 3ms/step - loss: 0.2137 - acc: 0.9175\n",
      "Epoch 3/3\n",
      "10000/10000 [==============================] - 28s 3ms/step - loss: 0.1851 - acc: 0.9283\n"
     ]
    },
    {
     "data": {
      "text/plain": [
       "<keras.callbacks.History at 0x10a41ddd8>"
      ]
     },
     "execution_count": 2,
     "metadata": {},
     "output_type": "execute_result"
    }
   ],
   "source": [
    "(x_train, y_train), (x_test, y_test) = cifar10.load_data()\n",
    "\n",
    "# Keep ships (8) from CIFAR-10\n",
    "interested_class = y_train == [8]\n",
    "interested_class_indx = [i for i, x in enumerate(interested_class) if x]\n",
    "x_train_class_one = x_train[interested_class_indx]\n",
    "other = y_train == [2]\n",
    "other_indx = [i for i, x in enumerate(other) if x]\n",
    "x_train_class_two = x_train[other_indx]\n",
    "\n",
    "x_train = np.append(x_train_class_one, x_train_class_two, axis = 0)\n",
    "y_train = [1] * 5000\n",
    "y_train = y_train + [0] * 5000\n",
    "\n",
    "x_train = x_train.astype('float32')\n",
    "x_test = x_test.astype('float32')\n",
    "x_train /= 255\n",
    "x_test /= 255\n",
    "\n",
    "(x_train_concept, y_train_concept), (x_test_concept, y_test_concept) = cifar100.load_data()\n",
    "\n",
    "# keep sea (71) from CIFAR-100\n",
    "concept = y_train_concept == [71]\n",
    "indices = concept\n",
    "indx_to_use = [i for i, x in enumerate(indices) if x]\n",
    "\n",
    "x_train_concept = x_train_concept[indx_to_use]\n",
    "\n",
    "batch_size = 32\n",
    "epochs = 3\n",
    "\n",
    "model = Sequential()\n",
    "model.add(Conv2D(32, (3, 3), padding='same', input_shape=x_train.shape[1:]))\n",
    "model.add(Activation('relu'))\n",
    "model.add(Conv2D(32, (3, 3)))\n",
    "model.add(Activation('relu'))\n",
    "model.add(MaxPooling2D(pool_size=(2, 2)))\n",
    "model.add(Dropout(0.25))\n",
    "\n",
    "model.add(Conv2D(64, (3, 3), padding='same'))\n",
    "model.add(Activation('relu'))\n",
    "model.add(Conv2D(64, (3, 3)))\n",
    "model.add(Activation('relu'))\n",
    "model.add(MaxPooling2D(pool_size=(2, 2)))\n",
    "model.add(Dropout(0.25))\n",
    "\n",
    "model.add(Flatten())\n",
    "model.add(Dense(512))\n",
    "model.add(Activation('relu'))\n",
    "model.add(Dropout(0.5))\n",
    "model.add(Dense(1))\n",
    "model.add(Activation('sigmoid'))\n",
    "\n",
    "# initiate optimizer\n",
    "opt = keras.optimizers.Adam(lr=0.001)\n",
    "\n",
    "# train the model\n",
    "model.compile(loss='binary_crossentropy', optimizer=opt, metrics=['accuracy'])\n",
    "\n",
    "model.fit(x_train, y_train, batch_size=batch_size, epochs=epochs, shuffle=True)"
   ]
  },
  {
   "cell_type": "code",
   "execution_count": 3,
   "metadata": {},
   "outputs": [],
   "source": [
    "tcav_obj = TCAV()\n",
    "tcav_obj.set_model(model)"
   ]
  },
  {
   "cell_type": "code",
   "execution_count": 4,
   "metadata": {},
   "outputs": [
    {
     "name": "stderr",
     "output_type": "stream",
     "text": [
      "/usr/local/lib/python3.6/site-packages/sklearn/linear_model/stochastic_gradient.py:128: FutureWarning: max_iter and tol parameters have been added in <class 'sklearn.linear_model.stochastic_gradient.SGDClassifier'> in 0.19. If both are left unset, they default to max_iter=5 and tol=None. If tol is not None, max_iter defaults to max_iter=1000. From 0.21, default max_iter will be 1000, and default tol will be 1e-3.\n",
      "  \"and default tol will be 1e-3.\" % type(self), FutureWarning)\n"
     ]
    },
    {
     "name": "stdout",
     "output_type": "stream",
     "text": [
      "The sensitivity of class 1 is  0.989\n",
      "The sensitivity of class 0 is  0.0274\n"
     ]
    }
   ],
   "source": [
    "tcav_obj.split_model(bottleneck = 1, conv_layer = True)\n",
    "tcav_obj.train_cav(x_train_concept)\n",
    "tcav_obj.calculate_sensitivity(x_train, y_train)\n",
    "tcav_obj.print_sensitivity()"
   ]
  },
  {
   "cell_type": "code",
   "execution_count": 5,
   "metadata": {},
   "outputs": [
    {
     "name": "stderr",
     "output_type": "stream",
     "text": [
      "/usr/local/lib/python3.6/site-packages/sklearn/linear_model/stochastic_gradient.py:128: FutureWarning: max_iter and tol parameters have been added in <class 'sklearn.linear_model.stochastic_gradient.SGDClassifier'> in 0.19. If both are left unset, they default to max_iter=5 and tol=None. If tol is not None, max_iter defaults to max_iter=1000. From 0.21, default max_iter will be 1000, and default tol will be 1e-3.\n",
      "  \"and default tol will be 1e-3.\" % type(self), FutureWarning)\n"
     ]
    },
    {
     "name": "stdout",
     "output_type": "stream",
     "text": [
      "The sensitivity of class 1 is  0.9984\n",
      "The sensitivity of class 0 is  0.0068\n"
     ]
    }
   ],
   "source": [
    "tcav_obj.split_model(bottleneck = 5, conv_layer = True)\n",
    "tcav_obj.train_cav(x_train_concept)\n",
    "tcav_obj.calculate_sensitivity(x_train, y_train)\n",
    "tcav_obj.print_sensitivity()"
   ]
  },
  {
   "cell_type": "code",
   "execution_count": 6,
   "metadata": {},
   "outputs": [
    {
     "name": "stderr",
     "output_type": "stream",
     "text": [
      "/usr/local/lib/python3.6/site-packages/sklearn/linear_model/stochastic_gradient.py:128: FutureWarning: max_iter and tol parameters have been added in <class 'sklearn.linear_model.stochastic_gradient.SGDClassifier'> in 0.19. If both are left unset, they default to max_iter=5 and tol=None. If tol is not None, max_iter defaults to max_iter=1000. From 0.21, default max_iter will be 1000, and default tol will be 1e-3.\n",
      "  \"and default tol will be 1e-3.\" % type(self), FutureWarning)\n"
     ]
    },
    {
     "name": "stdout",
     "output_type": "stream",
     "text": [
      "The sensitivity of class 1 is  0.827\n",
      "The sensitivity of class 0 is  0.0028\n"
     ]
    }
   ],
   "source": [
    "tcav_obj.split_model(bottleneck = 7, conv_layer = True)\n",
    "tcav_obj.train_cav(x_train_concept)\n",
    "tcav_obj.calculate_sensitivity(x_train, y_train)\n",
    "tcav_obj.print_sensitivity()"
   ]
  },
  {
   "cell_type": "code",
   "execution_count": 7,
   "metadata": {},
   "outputs": [
    {
     "name": "stderr",
     "output_type": "stream",
     "text": [
      "/usr/local/lib/python3.6/site-packages/sklearn/linear_model/stochastic_gradient.py:128: FutureWarning: max_iter and tol parameters have been added in <class 'sklearn.linear_model.stochastic_gradient.SGDClassifier'> in 0.19. If both are left unset, they default to max_iter=5 and tol=None. If tol is not None, max_iter defaults to max_iter=1000. From 0.21, default max_iter will be 1000, and default tol will be 1e-3.\n",
      "  \"and default tol will be 1e-3.\" % type(self), FutureWarning)\n"
     ]
    },
    {
     "name": "stdout",
     "output_type": "stream",
     "text": [
      "The sensitivity of class 1 is  1.0\n",
      "The sensitivity of class 0 is  0.0\n"
     ]
    }
   ],
   "source": [
    "tcav_obj.split_model(bottleneck = 11, conv_layer = True)\n",
    "tcav_obj.train_cav(x_train_concept)\n",
    "tcav_obj.calculate_sensitivity(x_train, y_train)\n",
    "tcav_obj.print_sensitivity()"
   ]
  },
  {
   "cell_type": "markdown",
   "metadata": {},
   "source": [
    "## Light Imbalance (25-75)"
   ]
  },
  {
   "cell_type": "code",
   "execution_count": 8,
   "metadata": {},
   "outputs": [
    {
     "name": "stdout",
     "output_type": "stream",
     "text": [
      "Epoch 1/3\n",
      "6250/6250 [==============================] - 18s 3ms/step - loss: 0.3510 - acc: 0.8517\n",
      "Epoch 2/3\n",
      "6250/6250 [==============================] - 18s 3ms/step - loss: 0.2042 - acc: 0.9200\n",
      "Epoch 3/3\n",
      "6250/6250 [==============================] - 17s 3ms/step - loss: 0.1825 - acc: 0.9259\n"
     ]
    },
    {
     "data": {
      "text/plain": [
       "<keras.callbacks.History at 0x12bea0198>"
      ]
     },
     "execution_count": 8,
     "metadata": {},
     "output_type": "execute_result"
    }
   ],
   "source": [
    "(x_train, y_train), (x_test, y_test) = cifar10.load_data()\n",
    "\n",
    "# Keep ships (8) from CIFAR-10\n",
    "interested_class = y_train == [8]\n",
    "interested_class_indx = [i for i, x in enumerate(interested_class) if x]\n",
    "x_train_class_one = x_train[interested_class_indx]\n",
    "x_train_class_one = x_train_class_one[np.random.randint(x_train_class_one.shape[0], size=int(x_train_class_one.shape[0]*.25))]\n",
    "other = y_train == [2]\n",
    "other_indx = [i for i, x in enumerate(other) if x]\n",
    "x_train_class_two = x_train[other_indx]\n",
    "\n",
    "x_train = np.append(x_train_class_one, x_train_class_two, axis = 0)\n",
    "y_train = [1] * x_train_class_one.shape[0]\n",
    "y_train = y_train + [0] * x_train_class_two.shape[0]\n",
    "\n",
    "x_train = x_train.astype('float32')\n",
    "x_test = x_test.astype('float32')\n",
    "x_train /= 255\n",
    "x_test /= 255\n",
    "\n",
    "(x_train_concept, y_train_concept), (x_test_concept, y_test_concept) = cifar100.load_data()\n",
    "\n",
    "# keep sea (71) from CIFAR-100\n",
    "concept = y_train_concept == [71]\n",
    "indices = concept\n",
    "indx_to_use = [i for i, x in enumerate(indices) if x]\n",
    "\n",
    "x_train_concept = x_train_concept[indx_to_use]\n",
    "\n",
    "batch_size = 32\n",
    "epochs = 3\n",
    "\n",
    "model = Sequential()\n",
    "model.add(Conv2D(32, (3, 3), padding='same', input_shape=x_train.shape[1:]))\n",
    "model.add(Activation('relu'))\n",
    "model.add(Conv2D(32, (3, 3)))\n",
    "model.add(Activation('relu'))\n",
    "model.add(MaxPooling2D(pool_size=(2, 2)))\n",
    "model.add(Dropout(0.25))\n",
    "\n",
    "model.add(Conv2D(64, (3, 3), padding='same'))\n",
    "model.add(Activation('relu'))\n",
    "model.add(Conv2D(64, (3, 3)))\n",
    "model.add(Activation('relu'))\n",
    "model.add(MaxPooling2D(pool_size=(2, 2)))\n",
    "model.add(Dropout(0.25))\n",
    "\n",
    "model.add(Flatten())\n",
    "model.add(Dense(512))\n",
    "model.add(Activation('relu'))\n",
    "model.add(Dropout(0.5))\n",
    "model.add(Dense(1))\n",
    "model.add(Activation('sigmoid'))\n",
    "\n",
    "# initiate optimizer\n",
    "opt = keras.optimizers.Adam(lr=0.001)\n",
    "\n",
    "# train the model\n",
    "model.compile(loss='binary_crossentropy', optimizer=opt, metrics=['accuracy'])\n",
    "\n",
    "model.fit(x_train, y_train, batch_size=batch_size, epochs=epochs, shuffle=True)"
   ]
  },
  {
   "cell_type": "code",
   "execution_count": 9,
   "metadata": {},
   "outputs": [
    {
     "name": "stderr",
     "output_type": "stream",
     "text": [
      "/usr/local/lib/python3.6/site-packages/sklearn/linear_model/stochastic_gradient.py:128: FutureWarning: max_iter and tol parameters have been added in <class 'sklearn.linear_model.stochastic_gradient.SGDClassifier'> in 0.19. If both are left unset, they default to max_iter=5 and tol=None. If tol is not None, max_iter defaults to max_iter=1000. From 0.21, default max_iter will be 1000, and default tol will be 1e-3.\n",
      "  \"and default tol will be 1e-3.\" % type(self), FutureWarning)\n"
     ]
    },
    {
     "name": "stdout",
     "output_type": "stream",
     "text": [
      "The sensitivity of class 1 is  0.9912\n",
      "The sensitivity of class 0 is  0.0034\n",
      "The sensitivity of class 1 is  1.0\n",
      "The sensitivity of class 0 is  0.0002\n",
      "The sensitivity of class 1 is  0.9776\n",
      "The sensitivity of class 0 is  0.0002\n",
      "The sensitivity of class 1 is  1.0\n",
      "The sensitivity of class 0 is  0.0\n"
     ]
    }
   ],
   "source": [
    "tcav_obj = TCAV()\n",
    "tcav_obj.set_model(model)\n",
    "tcav_obj.split_model(bottleneck = 1, conv_layer = True)\n",
    "tcav_obj.train_cav(x_train_concept)\n",
    "tcav_obj.calculate_sensitivity(x_train, y_train)\n",
    "tcav_obj.print_sensitivity()\n",
    "tcav_obj.split_model(bottleneck = 5, conv_layer = True)\n",
    "tcav_obj.train_cav(x_train_concept)\n",
    "tcav_obj.calculate_sensitivity(x_train, y_train)\n",
    "tcav_obj.print_sensitivity()\n",
    "tcav_obj.split_model(bottleneck = 7, conv_layer = True)\n",
    "tcav_obj.train_cav(x_train_concept)\n",
    "tcav_obj.calculate_sensitivity(x_train, y_train)\n",
    "tcav_obj.print_sensitivity()\n",
    "tcav_obj.split_model(bottleneck = 11, conv_layer = True)\n",
    "tcav_obj.train_cav(x_train_concept)\n",
    "tcav_obj.calculate_sensitivity(x_train, y_train)\n",
    "tcav_obj.print_sensitivity()"
   ]
  },
  {
   "cell_type": "markdown",
   "metadata": {},
   "source": [
    "## Medium Imbalance (5-95)"
   ]
  },
  {
   "cell_type": "code",
   "execution_count": 10,
   "metadata": {},
   "outputs": [
    {
     "name": "stdout",
     "output_type": "stream",
     "text": [
      "Epoch 1/3\n",
      "5250/5250 [==============================] - 16s 3ms/step - loss: 0.1936 - acc: 0.9484\n",
      "Epoch 2/3\n",
      "5250/5250 [==============================] - 15s 3ms/step - loss: 0.1380 - acc: 0.9524\n",
      "Epoch 3/3\n",
      "5250/5250 [==============================] - 15s 3ms/step - loss: 0.1157 - acc: 0.9606\n"
     ]
    },
    {
     "data": {
      "text/plain": [
       "<keras.callbacks.History at 0x12e57aef0>"
      ]
     },
     "execution_count": 10,
     "metadata": {},
     "output_type": "execute_result"
    }
   ],
   "source": [
    "(x_train, y_train), (x_test, y_test) = cifar10.load_data()\n",
    "\n",
    "# Keep ships (8) from CIFAR-10\n",
    "interested_class = y_train == [8]\n",
    "interested_class_indx = [i for i, x in enumerate(interested_class) if x]\n",
    "x_train_class_one = x_train[interested_class_indx]\n",
    "x_train_class_one = x_train_class_one[np.random.randint(x_train_class_one.shape[0], size=int(x_train_class_one.shape[0]*.05))]\n",
    "other = y_train == [2]\n",
    "other_indx = [i for i, x in enumerate(other) if x]\n",
    "x_train_class_two = x_train[other_indx]\n",
    "\n",
    "x_train = np.append(x_train_class_one, x_train_class_two, axis = 0)\n",
    "y_train = [1] * x_train_class_one.shape[0]\n",
    "y_train = y_train + [0] * x_train_class_two.shape[0]\n",
    "\n",
    "x_train = x_train.astype('float32')\n",
    "x_test = x_test.astype('float32')\n",
    "x_train /= 255\n",
    "x_test /= 255\n",
    "\n",
    "(x_train_concept, y_train_concept), (x_test_concept, y_test_concept) = cifar100.load_data()\n",
    "\n",
    "# keep sea (71) from CIFAR-100\n",
    "concept = y_train_concept == [71]\n",
    "indices = concept\n",
    "indx_to_use = [i for i, x in enumerate(indices) if x]\n",
    "\n",
    "x_train_concept = x_train_concept[indx_to_use]\n",
    "\n",
    "batch_size = 32\n",
    "epochs = 3\n",
    "\n",
    "model = Sequential()\n",
    "model.add(Conv2D(32, (3, 3), padding='same', input_shape=x_train.shape[1:]))\n",
    "model.add(Activation('relu'))\n",
    "model.add(Conv2D(32, (3, 3)))\n",
    "model.add(Activation('relu'))\n",
    "model.add(MaxPooling2D(pool_size=(2, 2)))\n",
    "model.add(Dropout(0.25))\n",
    "\n",
    "model.add(Conv2D(64, (3, 3), padding='same'))\n",
    "model.add(Activation('relu'))\n",
    "model.add(Conv2D(64, (3, 3)))\n",
    "model.add(Activation('relu'))\n",
    "model.add(MaxPooling2D(pool_size=(2, 2)))\n",
    "model.add(Dropout(0.25))\n",
    "\n",
    "model.add(Flatten())\n",
    "model.add(Dense(512))\n",
    "model.add(Activation('relu'))\n",
    "model.add(Dropout(0.5))\n",
    "model.add(Dense(1))\n",
    "model.add(Activation('sigmoid'))\n",
    "\n",
    "# initiate optimizer\n",
    "opt = keras.optimizers.Adam(lr=0.001)\n",
    "\n",
    "# train the model\n",
    "model.compile(loss='binary_crossentropy', optimizer=opt, metrics=['accuracy'])\n",
    "\n",
    "model.fit(x_train, y_train, batch_size=batch_size, epochs=epochs, shuffle=True)"
   ]
  },
  {
   "cell_type": "code",
   "execution_count": 11,
   "metadata": {},
   "outputs": [
    {
     "name": "stderr",
     "output_type": "stream",
     "text": [
      "/usr/local/lib/python3.6/site-packages/sklearn/linear_model/stochastic_gradient.py:128: FutureWarning: max_iter and tol parameters have been added in <class 'sklearn.linear_model.stochastic_gradient.SGDClassifier'> in 0.19. If both are left unset, they default to max_iter=5 and tol=None. If tol is not None, max_iter defaults to max_iter=1000. From 0.21, default max_iter will be 1000, and default tol will be 1e-3.\n",
      "  \"and default tol will be 1e-3.\" % type(self), FutureWarning)\n"
     ]
    },
    {
     "name": "stdout",
     "output_type": "stream",
     "text": [
      "The sensitivity of class 1 is  0.936\n",
      "The sensitivity of class 0 is  0.0028\n",
      "The sensitivity of class 1 is  0.864\n",
      "The sensitivity of class 0 is  0.1554\n",
      "The sensitivity of class 1 is  1.0\n",
      "The sensitivity of class 0 is  0.0\n",
      "The sensitivity of class 1 is  1.0\n",
      "The sensitivity of class 0 is  0.0\n"
     ]
    }
   ],
   "source": [
    "tcav_obj = TCAV()\n",
    "tcav_obj.set_model(model)\n",
    "tcav_obj.split_model(bottleneck = 1, conv_layer = True)\n",
    "tcav_obj.train_cav(x_train_concept)\n",
    "tcav_obj.calculate_sensitivity(x_train, y_train)\n",
    "tcav_obj.print_sensitivity()\n",
    "tcav_obj.split_model(bottleneck = 5, conv_layer = True)\n",
    "tcav_obj.train_cav(x_train_concept)\n",
    "tcav_obj.calculate_sensitivity(x_train, y_train)\n",
    "tcav_obj.print_sensitivity()\n",
    "tcav_obj.split_model(bottleneck = 7, conv_layer = True)\n",
    "tcav_obj.train_cav(x_train_concept)\n",
    "tcav_obj.calculate_sensitivity(x_train, y_train)\n",
    "tcav_obj.print_sensitivity()\n",
    "tcav_obj.split_model(bottleneck = 11, conv_layer = True)\n",
    "tcav_obj.train_cav(x_train_concept)\n",
    "tcav_obj.calculate_sensitivity(x_train, y_train)\n",
    "tcav_obj.print_sensitivity()"
   ]
  },
  {
   "cell_type": "markdown",
   "metadata": {},
   "source": [
    "## Large Imbalance (1-99)"
   ]
  },
  {
   "cell_type": "code",
   "execution_count": 12,
   "metadata": {},
   "outputs": [
    {
     "name": "stdout",
     "output_type": "stream",
     "text": [
      "Epoch 1/3\n",
      "5050/5050 [==============================] - 16s 3ms/step - loss: 0.1171 - acc: 0.9885\n",
      "Epoch 2/3\n",
      "5050/5050 [==============================] - 15s 3ms/step - loss: 0.1596 - acc: 0.9901\n",
      "Epoch 3/3\n",
      "5050/5050 [==============================] - 14s 3ms/step - loss: 0.1596 - acc: 0.9901\n"
     ]
    },
    {
     "data": {
      "text/plain": [
       "<keras.callbacks.History at 0x12f0070f0>"
      ]
     },
     "execution_count": 12,
     "metadata": {},
     "output_type": "execute_result"
    }
   ],
   "source": [
    "(x_train, y_train), (x_test, y_test) = cifar10.load_data()\n",
    "\n",
    "# Keep ships (8) from CIFAR-10\n",
    "interested_class = y_train == [8]\n",
    "interested_class_indx = [i for i, x in enumerate(interested_class) if x]\n",
    "x_train_class_one = x_train[interested_class_indx]\n",
    "x_train_class_one = x_train_class_one[np.random.randint(x_train_class_one.shape[0], size=int(x_train_class_one.shape[0]*.01))]\n",
    "other = y_train == [2]\n",
    "other_indx = [i for i, x in enumerate(other) if x]\n",
    "x_train_class_two = x_train[other_indx]\n",
    "\n",
    "x_train = np.append(x_train_class_one, x_train_class_two, axis = 0)\n",
    "y_train = [1] * x_train_class_one.shape[0]\n",
    "y_train = y_train + [0] * x_train_class_two.shape[0]\n",
    "\n",
    "x_train = x_train.astype('float32')\n",
    "x_test = x_test.astype('float32')\n",
    "x_train /= 255\n",
    "x_test /= 255\n",
    "\n",
    "(x_train_concept, y_train_concept), (x_test_concept, y_test_concept) = cifar100.load_data()\n",
    "\n",
    "# keep sea (71) from CIFAR-100\n",
    "concept = y_train_concept == [71]\n",
    "indices = concept\n",
    "indx_to_use = [i for i, x in enumerate(indices) if x]\n",
    "\n",
    "x_train_concept = x_train_concept[indx_to_use]\n",
    "\n",
    "batch_size = 32\n",
    "epochs = 3\n",
    "\n",
    "model = Sequential()\n",
    "model.add(Conv2D(32, (3, 3), padding='same', input_shape=x_train.shape[1:]))\n",
    "model.add(Activation('relu'))\n",
    "model.add(Conv2D(32, (3, 3)))\n",
    "model.add(Activation('relu'))\n",
    "model.add(MaxPooling2D(pool_size=(2, 2)))\n",
    "model.add(Dropout(0.25))\n",
    "\n",
    "model.add(Conv2D(64, (3, 3), padding='same'))\n",
    "model.add(Activation('relu'))\n",
    "model.add(Conv2D(64, (3, 3)))\n",
    "model.add(Activation('relu'))\n",
    "model.add(MaxPooling2D(pool_size=(2, 2)))\n",
    "model.add(Dropout(0.25))\n",
    "\n",
    "model.add(Flatten())\n",
    "model.add(Dense(512))\n",
    "model.add(Activation('relu'))\n",
    "model.add(Dropout(0.5))\n",
    "model.add(Dense(1))\n",
    "model.add(Activation('sigmoid'))\n",
    "\n",
    "# initiate optimizer\n",
    "opt = keras.optimizers.Adam(lr=0.001)\n",
    "\n",
    "# train the model\n",
    "model.compile(loss='binary_crossentropy', optimizer=opt, metrics=['accuracy'])\n",
    "\n",
    "model.fit(x_train, y_train, batch_size=batch_size, epochs=epochs, shuffle=True)"
   ]
  },
  {
   "cell_type": "code",
   "execution_count": 13,
   "metadata": {},
   "outputs": [
    {
     "name": "stderr",
     "output_type": "stream",
     "text": [
      "/usr/local/lib/python3.6/site-packages/sklearn/linear_model/stochastic_gradient.py:128: FutureWarning: max_iter and tol parameters have been added in <class 'sklearn.linear_model.stochastic_gradient.SGDClassifier'> in 0.19. If both are left unset, they default to max_iter=5 and tol=None. If tol is not None, max_iter defaults to max_iter=1000. From 0.21, default max_iter will be 1000, and default tol will be 1e-3.\n",
      "  \"and default tol will be 1e-3.\" % type(self), FutureWarning)\n"
     ]
    },
    {
     "name": "stdout",
     "output_type": "stream",
     "text": [
      "The sensitivity of class 1 is  0.0\n",
      "The sensitivity of class 0 is  0.0\n",
      "The sensitivity of class 1 is  0.0\n",
      "The sensitivity of class 0 is  0.0\n",
      "The sensitivity of class 1 is  0.0\n",
      "The sensitivity of class 0 is  0.0\n",
      "The sensitivity of class 1 is  0.0\n",
      "The sensitivity of class 0 is  0.0\n"
     ]
    }
   ],
   "source": [
    "tcav_obj = TCAV()\n",
    "tcav_obj.set_model(model)\n",
    "tcav_obj.split_model(bottleneck = 1, conv_layer = True)\n",
    "tcav_obj.train_cav(x_train_concept)\n",
    "tcav_obj.calculate_sensitivity(x_train, y_train)\n",
    "tcav_obj.print_sensitivity()\n",
    "tcav_obj.split_model(bottleneck = 5, conv_layer = True)\n",
    "tcav_obj.train_cav(x_train_concept)\n",
    "tcav_obj.calculate_sensitivity(x_train, y_train)\n",
    "tcav_obj.print_sensitivity()\n",
    "tcav_obj.split_model(bottleneck = 7, conv_layer = True)\n",
    "tcav_obj.train_cav(x_train_concept)\n",
    "tcav_obj.calculate_sensitivity(x_train, y_train)\n",
    "tcav_obj.print_sensitivity()\n",
    "tcav_obj.split_model(bottleneck = 11, conv_layer = True)\n",
    "tcav_obj.train_cav(x_train_concept)\n",
    "tcav_obj.calculate_sensitivity(x_train, y_train)\n",
    "tcav_obj.print_sensitivity()"
   ]
  }
 ],
 "metadata": {
  "kernelspec": {
   "display_name": "Python 3",
   "language": "python",
   "name": "python3"
  },
  "language_info": {
   "codemirror_mode": {
    "name": "ipython",
    "version": 3
   },
   "file_extension": ".py",
   "mimetype": "text/x-python",
   "name": "python",
   "nbconvert_exporter": "python",
   "pygments_lexer": "ipython3",
   "version": "3.6.5"
  }
 },
 "nbformat": 4,
 "nbformat_minor": 2
}
